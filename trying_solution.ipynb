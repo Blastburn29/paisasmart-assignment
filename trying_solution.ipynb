{
 "cells": [
  {
   "cell_type": "code",
   "execution_count": 2,
   "metadata": {},
   "outputs": [],
   "source": [
    "import json"
   ]
  },
  {
   "cell_type": "code",
   "execution_count": 3,
   "metadata": {},
   "outputs": [],
   "source": [
    "with open('books.json') as f:\n",
    "    data = json.load(f)"
   ]
  },
  {
   "cell_type": "code",
   "execution_count": 9,
   "metadata": {},
   "outputs": [],
   "source": [
    "book_list = []"
   ]
  },
  {
   "cell_type": "code",
   "execution_count": 10,
   "metadata": {},
   "outputs": [],
   "source": [
    "for book in data:\n",
    "    book_list.append(book['book_title'])"
   ]
  },
  {
   "cell_type": "code",
   "execution_count": 11,
   "metadata": {},
   "outputs": [
    {
     "data": {
      "text/plain": [
       "['The Great Gatsby',\n",
       " '1984',\n",
       " 'To Kill a Mockingbird',\n",
       " 'The Catcher in the Rye',\n",
       " 'Animal Farm',\n",
       " 'Brave New World',\n",
       " 'The Grapes of Wrath',\n",
       " 'Lord of the Flies']"
      ]
     },
     "execution_count": 11,
     "metadata": {},
     "output_type": "execute_result"
    }
   ],
   "source": [
    "book_list"
   ]
  },
  {
   "cell_type": "code",
   "execution_count": 17,
   "metadata": {},
   "outputs": [],
   "source": [
    "from difflib import get_close_matches\n",
    "def extract_title(sentence):\n",
    "    # Find the closest matches\n",
    "    matches = get_close_matches(sentence, book_list, n=1, cutoff=0.2)  # `n` is the max number of results, `cutoff` is match quality\n",
    "    return matches[0] if matches else None"
   ]
  },
  {
   "cell_type": "code",
   "execution_count": 21,
   "metadata": {},
   "outputs": [
    {
     "name": "stdout",
     "output_type": "stream",
     "text": [
      "Lord of the Flies\n"
     ]
    }
   ],
   "source": [
    "sentence = \"Can I get the Lord of the Rings?\"\n",
    "print(extract_title(sentence))"
   ]
  },
  {
   "cell_type": "code",
   "execution_count": 23,
   "metadata": {},
   "outputs": [
    {
     "name": "stdout",
     "output_type": "stream",
     "text": [
      "['H234QR']\n"
     ]
    }
   ],
   "source": [
    "import re\n",
    "\n",
    "def extract_order_id(text):\n",
    "    # Regex pattern for 1 alphabet, 3 digits, and 2 alphabets\n",
    "    pattern = r'\\b[A-Z]\\d{3}[A-Z]{2}\\b'\n",
    "    match = re.findall(pattern, text)\n",
    "    return match\n",
    "\n",
    "# Example usage\n",
    "text = \"My order #H234QR hasn't been shipped yet.\"\n",
    "print(extract_order_id(text))"
   ]
  },
  {
   "cell_type": "code",
   "execution_count": 6,
   "metadata": {},
   "outputs": [
    {
     "name": "stdout",
     "output_type": "stream",
     "text": [
      "Extracted Review: A bit too long but amazing .\n"
     ]
    }
   ],
   "source": [
    "import spacy\n",
    "\n",
    "# Load a pre-trained language model\n",
    "nlp = spacy.load(\"en_core_web_sm\")\n",
    "\n",
    "def extract_review(text):\n",
    "    doc = nlp(text)\n",
    "    review_start = False\n",
    "    review = []\n",
    "\n",
    "    for token in doc:\n",
    "        # Look for keywords that indicate the start of the review\n",
    "        if token.text.lower() in {\"review\", \"about\", \"for\", \":\"}:\n",
    "            review_start = True\n",
    "            continue\n",
    "        \n",
    "        if review_start:\n",
    "            review.append(token.text)\n",
    "\n",
    "    return \" \".join(review).strip()\n",
    "\n",
    "# Example usage\n",
    "text = \"My thoughts on 'War and Peace': A bit too long but amazing.\"\n",
    "review = extract_review(text)\n",
    "print(\"Extracted Review:\", review)"
   ]
  },
  {
   "cell_type": "code",
   "execution_count": null,
   "metadata": {},
   "outputs": [],
   "source": []
  }
 ],
 "metadata": {
  "kernelspec": {
   "display_name": "venv",
   "language": "python",
   "name": "python3"
  },
  "language_info": {
   "codemirror_mode": {
    "name": "ipython",
    "version": 3
   },
   "file_extension": ".py",
   "mimetype": "text/x-python",
   "name": "python",
   "nbconvert_exporter": "python",
   "pygments_lexer": "ipython3",
   "version": "3.9.6"
  }
 },
 "nbformat": 4,
 "nbformat_minor": 2
}
